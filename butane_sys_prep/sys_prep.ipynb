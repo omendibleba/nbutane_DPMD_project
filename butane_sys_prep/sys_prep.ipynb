{
 "cells": [
  {
   "cell_type": "code",
   "execution_count": 2,
   "metadata": {},
   "outputs": [],
   "source": [
    "## Create the butane systems using MosDEF\n",
    "\n",
    "## Import libraries\n",
    "\n",
    "import mbuild\n",
    "import foyer \n",
    "\n",
    "import warnings \n",
    "warnings.filterwarnings('ignore')"
   ]
  },
  {
   "cell_type": "code",
   "execution_count": 3,
   "metadata": {},
   "outputs": [],
   "source": [
    "## Create a Butane molecule using its smile string (CCCC)\n",
    "\n",
    "butane_unparad = mbuild.load('CCCC',smiles=True)\n",
    "\n",
    "# Assign a name\n",
    "butane_unparad.name = 'BUT' "
   ]
  },
  {
   "cell_type": "code",
   "execution_count": 4,
   "metadata": {},
   "outputs": [],
   "source": [
    "## Build a box \n",
    "box = mbuild.Box(3*[3.5])"
   ]
  },
  {
   "cell_type": "code",
   "execution_count": 5,
   "metadata": {},
   "outputs": [],
   "source": [
    "## Fill the box with molecules \n",
    "filled_box = mbuild.fill_box(compound=butane_unparad,n_compounds=168,box=box)"
   ]
  },
  {
   "cell_type": "code",
   "execution_count": 6,
   "metadata": {},
   "outputs": [],
   "source": [
    "## Apply OPLSS_AA to the moleculecules in the box \n",
    "ff = foyer.Forcefield(name=\"oplsaa\")\n",
    "filled_box_parmed = filled_box.to_parmed(infer_residues=True)\n",
    "filled_box_parmed_parametrized = ff.apply(filled_box_parmed) #parmed.Structure\n"
   ]
  },
  {
   "cell_type": "code",
   "execution_count": 7,
   "metadata": {},
   "outputs": [
    {
     "name": "stdout",
     "output_type": "stream",
     "text": [
      "No urey bradley terms detected, will use angle_style harmonic\n",
      "RB Torsions detected, will use dihedral_style opls\n"
     ]
    }
   ],
   "source": [
    "## Pass the parametrized system to a Lammps data file \n",
    "\n",
    "mbuild.formats.lammpsdata.write_lammpsdata(\n",
    "   filled_box_parmed_parametrized, \n",
    "   \"butane168_liq.data\",\n",
    "   atom_style=\"full\",\n",
    "   unit_style=\"real\",\n",
    "   use_rb_torsions=True,\n",
    ")\n"
   ]
  },
  {
   "cell_type": "code",
   "execution_count": null,
   "metadata": {},
   "outputs": [],
   "source": []
  },
  {
   "cell_type": "code",
   "execution_count": 8,
   "metadata": {},
   "outputs": [
    {
     "name": "stdout",
     "output_type": "stream",
     "text": [
      "No urey bradley terms detected, will use angle_style harmonic\n",
      "RB Torsions detected, will use dihedral_style opls\n"
     ]
    }
   ],
   "source": [
    "## Crreate new system for AIMD.. 14 molecules in a cubic box of size lentht 1.3 nm \n",
    "\n",
    "box_aimd = mbuild.Box(3*[1.0])\n",
    "## Fill the box with molecules \n",
    "filled_box_aimd = mbuild.fill_box(compound=butane_unparad,n_compounds=6,box=box_aimd)\n",
    "## Apply OPLSS_AA to the moleculecules in the box \n",
    "ff = foyer.Forcefield(name=\"oplsaa\")\n",
    "filled_box_parmed_aimd = filled_box_aimd.to_parmed(infer_residues=True)\n",
    "filled_box_parmed_parametrized_aimd = ff.apply(filled_box_parmed_aimd) #parmed.Structure\n",
    "\n",
    "\n",
    "mbuild.formats.lammpsdata.write_lammpsdata(\n",
    "   filled_box_parmed_parametrized_aimd, \n",
    "   \"butane6_aimd.data\",\n",
    "   atom_style=\"full\",\n",
    "   unit_style=\"real\",\n",
    "   use_rb_torsions=True,\n",
    ")"
   ]
  },
  {
   "cell_type": "code",
   "execution_count": null,
   "metadata": {},
   "outputs": [],
   "source": []
  }
 ],
 "metadata": {
  "kernelspec": {
   "display_name": "Python 3.9.13 ('mosdefcass')",
   "language": "python",
   "name": "python3"
  },
  "language_info": {
   "codemirror_mode": {
    "name": "ipython",
    "version": 3
   },
   "file_extension": ".py",
   "mimetype": "text/x-python",
   "name": "python",
   "nbconvert_exporter": "python",
   "pygments_lexer": "ipython3",
   "version": "3.9.13"
  },
  "orig_nbformat": 4,
  "vscode": {
   "interpreter": {
    "hash": "7099e79aee987d032e67395fa6e6bfefa76b59b73b547a3365ed25e4ae54871b"
   }
  }
 },
 "nbformat": 4,
 "nbformat_minor": 2
}
